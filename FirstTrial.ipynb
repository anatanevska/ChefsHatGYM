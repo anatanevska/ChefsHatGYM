{
 "cells": [
  {
   "cell_type": "code",
   "execution_count": 2,
   "metadata": {},
   "outputs": [],
   "source": [
    "import gym\n",
    "env = gym.make('MountainCar-v0')\n",
    "env.reset()\n",
    "for _ in range(1000):\n",
    "    env.render()\n",
    "    env.step(env.action_space.sample()) # take a random action\n",
    "env.close()"
   ]
  },
  {
   "cell_type": "code",
   "execution_count": 4,
   "metadata": {},
   "outputs": [
    {
     "name": "stdout",
     "output_type": "stream",
     "text": [
      " Volume in drive C is Win7_OS\n",
      " Volume Serial Number is 0481-94F6\n",
      "\n",
      " Directory of C:\\Users\\atanevska\\ChefsHatGYM\n",
      "\n",
      "25/03/2020  13:13    <DIR>          .\n",
      "25/03/2020  13:13    <DIR>          ..\n",
      "25/03/2020  12:45    <DIR>          .ipynb_checkpoints\n",
      "24/03/2020  16:28    <DIR>          Agents\n",
      "24/03/2020  16:28    <DIR>          ChefsHatEnv\n",
      "24/03/2020  16:28    <DIR>          Examples\n",
      "24/03/2020  16:32    <DIR>          ExperimentHandler\n",
      "24/03/2020  16:28    <DIR>          Experiments_Media\n",
      "24/03/2020  16:28    <DIR>          Experiments_Optmization\n",
      "24/03/2020  16:28    <DIR>          Experiments_Publications\n",
      "24/03/2020  16:28    <DIR>          Experiments_SelfPlay\n",
      "25/03/2020  13:13             1.014 FirstTrial.ipynb\n",
      "24/03/2020  16:28    <DIR>          gitImages\n",
      "24/03/2020  16:28    <DIR>          images\n",
      "24/03/2020  17:11    <DIR>          KEF\n",
      "24/03/2020  16:28             7.817 LICENSE\n",
      "24/03/2020  16:28            11.519 Readme.md\n",
      "24/03/2020  16:28               906 Requirements.txt\n",
      "24/03/2020  17:02    <DIR>          Rewards\n",
      "25/03/2020  12:14             2.265 run_General_Experiment.py\n",
      "25/03/2020  13:14    <DIR>          saveExperiment\n",
      "               5 File(s)         23.521 bytes\n",
      "              16 Dir(s)   9.722.454.016 bytes free\n"
     ]
    }
   ],
   "source": [
    "!"
   ]
  },
  {
   "cell_type": "code",
   "execution_count": null,
   "metadata": {},
   "outputs": [],
   "source": []
  }
 ],
 "metadata": {
  "kernelspec": {
   "display_name": "Python 3",
   "language": "python",
   "name": "python3"
  },
  "language_info": {
   "codemirror_mode": {
    "name": "ipython",
    "version": 3
   },
   "file_extension": ".py",
   "mimetype": "text/x-python",
   "name": "python",
   "nbconvert_exporter": "python",
   "pygments_lexer": "ipython3",
   "version": "3.7.6"
  }
 },
 "nbformat": 4,
 "nbformat_minor": 4
}
